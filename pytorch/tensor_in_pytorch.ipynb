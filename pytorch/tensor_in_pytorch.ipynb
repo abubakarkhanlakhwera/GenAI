{
  "nbformat": 4,
  "nbformat_minor": 0,
  "metadata": {
    "colab": {
      "provenance": [],
      "gpuType": "T4",
      "authorship_tag": "ABX9TyOy8bKkgCUz0QhvedwRC96T",
      "include_colab_link": true
    },
    "kernelspec": {
      "name": "python3",
      "display_name": "Python 3"
    },
    "language_info": {
      "name": "python"
    },
    "accelerator": "GPU"
  },
  "cells": [
    {
      "cell_type": "markdown",
      "metadata": {
        "id": "view-in-github",
        "colab_type": "text"
      },
      "source": [
        "<a href=\"https://colab.research.google.com/github/abubakarkhanlakhwera/GenAI/blob/main/pytorch/tensor_in_pytorch.ipynb\" target=\"_parent\"><img src=\"https://colab.research.google.com/assets/colab-badge.svg\" alt=\"Open In Colab\"/></a>"
      ]
    },
    {
      "cell_type": "code",
      "execution_count": null,
      "metadata": {
        "id": "QqRx2nRe86z4"
      },
      "outputs": [],
      "source": [
        "# 1. Boring but useful\n",
        "# 2. Knowledge of Deep learning\n",
        "# 3. Very similar to NumPy\n",
        "# 4. Lecture flow\n",
        "# 5. Very close to PyTorch official documentation\n"
      ]
    },
    {
      "cell_type": "markdown",
      "source": [
        "# **What are tensors**"
      ],
      "metadata": {
        "id": "bsoc7IJ2_f7-"
      }
    },
    {
      "cell_type": "markdown",
      "source": [
        "**vector,matrics and so on\n",
        "\n",
        "1. Boring but useful\n",
        "2. Knowledge of Deep learning\n",
        "3. Very similar to NumPy\n",
        "4. Lecture flow\n",
        "5. Very close to PyTorch official documentation\n",
        "\n",
        " **What are tensors**\n",
        "\n",
        "A tensor is a multi-dimensional array.  Think of it as a generalization of scalars, vectors, and matrices.\n",
        "\n",
        "* Scalar: A single number (e.g., 5, 3.14).  A 0-dimensional tensor.\n",
        "* Vector: An ordered sequence of numbers (e.g., [1, 2, 3]). A 1-dimensional tensor.\n",
        "* Matrix: A 2-dimensional array of numbers (e.g., [[1, 2], [3, 4]]). A 2-dimensional tensor.\n",
        "* Tensor:  An array with three or more dimensions. For example, a color image can be represented as a 3-dimensional tensor (height, width, color channels). A sequence of images forms a 4-dimensional tensor (time, height, width, color channels).\n",
        "\n",
        "In PyTorch (and other deep learning frameworks), tensors are used to represent data, weights, and biases in neural networks.  They are optimized for efficient computations on GPUs and other hardware accelerators.  The core operations are similar to NumPy, but tensors can leverage hardware acceleration for significant performance gains.**"
      ],
      "metadata": {
        "id": "DnakvhTuA13H"
      }
    },
    {
      "cell_type": "code",
      "source": [
        "import torch\n",
        "print(torch.__version__)"
      ],
      "metadata": {
        "colab": {
          "base_uri": "https://localhost:8080/"
        },
        "id": "2PChJJso_iG3",
        "outputId": "d8cc821b-f9b5-4c60-c6a6-f9370f45df57"
      },
      "execution_count": 2,
      "outputs": [
        {
          "output_type": "stream",
          "name": "stdout",
          "text": [
            "2.5.1+cu121\n"
          ]
        }
      ]
    },
    {
      "cell_type": "code",
      "source": [
        "if torch.cuda.is_available():\n",
        "    print(\"GPU is available\")\n",
        "    print(f\"Device name: {torch.cuda.get_device_name(0)}\")\n",
        "else:\n",
        "    print(\"GPU is not available\")"
      ],
      "metadata": {
        "colab": {
          "base_uri": "https://localhost:8080/"
        },
        "id": "WO7Dkf97FRSt",
        "outputId": "56d08479-3756-484a-f728-99364be00133"
      },
      "execution_count": 4,
      "outputs": [
        {
          "output_type": "stream",
          "name": "stdout",
          "text": [
            "GPU is available\n",
            "Device name: Tesla T4\n"
          ]
        }
      ]
    },
    {
      "cell_type": "code",
      "source": [],
      "metadata": {
        "id": "gqw3_fsSF5lS"
      },
      "execution_count": null,
      "outputs": []
    },
    {
      "cell_type": "markdown",
      "source": [
        "# **Creating Tensor**"
      ],
      "metadata": {
        "id": "x-clRTklF8di"
      }
    },
    {
      "cell_type": "code",
      "source": [
        "# by using empty\n",
        "\n",
        "a = torch.empty(2,3)"
      ],
      "metadata": {
        "id": "sA4HgZVqGBK7"
      },
      "execution_count": 7,
      "outputs": []
    },
    {
      "cell_type": "code",
      "source": [
        "# check type\n",
        "type(a)"
      ],
      "metadata": {
        "colab": {
          "base_uri": "https://localhost:8080/"
        },
        "id": "ZSyMlcQPGV4R",
        "outputId": "44fcc0bf-d9da-4112-fc11-8f6e846a0c57"
      },
      "execution_count": 9,
      "outputs": [
        {
          "output_type": "execute_result",
          "data": {
            "text/plain": [
              "torch.Tensor"
            ]
          },
          "metadata": {},
          "execution_count": 9
        }
      ]
    },
    {
      "cell_type": "code",
      "source": [
        "# using zeros\n",
        "torch.zeros(2,3)"
      ],
      "metadata": {
        "colab": {
          "base_uri": "https://localhost:8080/"
        },
        "id": "v28ry0_1GbOx",
        "outputId": "dd35c7e2-1915-4667-b7a4-d491c30f16ae"
      },
      "execution_count": 10,
      "outputs": [
        {
          "output_type": "execute_result",
          "data": {
            "text/plain": [
              "tensor([[0., 0., 0.],\n",
              "        [0., 0., 0.]])"
            ]
          },
          "metadata": {},
          "execution_count": 10
        }
      ]
    },
    {
      "cell_type": "code",
      "source": [
        "# using ones\n",
        "torch.ones(2,3)"
      ],
      "metadata": {
        "colab": {
          "base_uri": "https://localhost:8080/"
        },
        "id": "6OAqNjdzGjH6",
        "outputId": "2ebfbfd6-e6fe-4d1e-a364-a11f236be1f1"
      },
      "execution_count": 11,
      "outputs": [
        {
          "output_type": "execute_result",
          "data": {
            "text/plain": [
              "tensor([[1., 1., 1.],\n",
              "        [1., 1., 1.]])"
            ]
          },
          "metadata": {},
          "execution_count": 11
        }
      ]
    },
    {
      "cell_type": "code",
      "source": [
        "# using rand\n",
        "# creat random tensor\n",
        "torch.rand(2,3)"
      ],
      "metadata": {
        "colab": {
          "base_uri": "https://localhost:8080/"
        },
        "id": "GccpnZthGmJy",
        "outputId": "a2a0ad30-5fb9-4e5c-bf6a-9caaf1715452"
      },
      "execution_count": 13,
      "outputs": [
        {
          "output_type": "execute_result",
          "data": {
            "text/plain": [
              "tensor([[0.1822, 0.1508, 0.9644],\n",
              "        [0.4646, 0.6828, 0.3214]])"
            ]
          },
          "metadata": {},
          "execution_count": 13
        }
      ]
    },
    {
      "cell_type": "code",
      "source": [
        "# manual seed\n",
        "# fix random tensor\n",
        "torch.manual_seed(100)\n",
        "torch.rand(2,3)\n"
      ],
      "metadata": {
        "colab": {
          "base_uri": "https://localhost:8080/"
        },
        "id": "_SA-ObwwGrDZ",
        "outputId": "03c7094c-acc1-46d1-b1c6-c6990fc818a9"
      },
      "execution_count": 14,
      "outputs": [
        {
          "output_type": "execute_result",
          "data": {
            "text/plain": [
              "tensor([[0.1117, 0.8158, 0.2626],\n",
              "        [0.4839, 0.6765, 0.7539]])"
            ]
          },
          "metadata": {},
          "execution_count": 14
        }
      ]
    },
    {
      "cell_type": "code",
      "source": [
        "torch.manual_seed(100)\n",
        "torch.rand(2,3)"
      ],
      "metadata": {
        "colab": {
          "base_uri": "https://localhost:8080/"
        },
        "id": "VJDjrIUcHE0R",
        "outputId": "1454ed8f-1658-4a40-87ff-89c32790c11e"
      },
      "execution_count": 15,
      "outputs": [
        {
          "output_type": "execute_result",
          "data": {
            "text/plain": [
              "tensor([[0.1117, 0.8158, 0.2626],\n",
              "        [0.4839, 0.6765, 0.7539]])"
            ]
          },
          "metadata": {},
          "execution_count": 15
        }
      ]
    },
    {
      "cell_type": "code",
      "source": [
        "# using tensor\n",
        "b = torch.tensor([[1,2,3],[4,5,6]])"
      ],
      "metadata": {
        "id": "-uWBSYGyHFbq"
      },
      "execution_count": 23,
      "outputs": []
    },
    {
      "cell_type": "code",
      "source": [
        "b"
      ],
      "metadata": {
        "colab": {
          "base_uri": "https://localhost:8080/"
        },
        "id": "CyfkLHkhHxSB",
        "outputId": "686ca8f2-bd79-41d5-f397-087cf30e6c5f"
      },
      "execution_count": 25,
      "outputs": [
        {
          "output_type": "execute_result",
          "data": {
            "text/plain": [
              "tensor([[1, 2, 3],\n",
              "        [4, 5, 6]])"
            ]
          },
          "metadata": {},
          "execution_count": 25
        }
      ]
    },
    {
      "cell_type": "code",
      "source": [
        "# other ways\n",
        "# arange\n",
        "print('Using arange ->',torch.arange(0,10,2))\n",
        "# Using linspace(linearly spaced)\n",
        "print(\"Using linspace ->\", torch.linspace(0,10,10))\n",
        "# Using eye(Identity matrix)\n",
        "print(\"Using eye ->\", torch.eye(3))\n",
        "# Using full(constant matrix)\n",
        "# sytax torch.full((row,colum), entity))\n",
        "print(\"Using full ->\", torch.full((2,3), 5))"
      ],
      "metadata": {
        "colab": {
          "base_uri": "https://localhost:8080/"
        },
        "id": "BLpleug-HNTD",
        "outputId": "328cd214-6793-4b0b-d20a-914a99bdfa17"
      },
      "execution_count": 27,
      "outputs": [
        {
          "output_type": "stream",
          "name": "stdout",
          "text": [
            "Using arange -> tensor([0, 2, 4, 6, 8])\n",
            "Using linspace -> tensor([ 0.0000,  1.1111,  2.2222,  3.3333,  4.4444,  5.5556,  6.6667,  7.7778,\n",
            "         8.8889, 10.0000])\n",
            "Using eye -> tensor([[1., 0., 0.],\n",
            "        [0., 1., 0.],\n",
            "        [0., 0., 1.]])\n",
            "Using full -> tensor([[5, 5, 5],\n",
            "        [5, 5, 5]])\n"
          ]
        }
      ]
    },
    {
      "cell_type": "code",
      "source": [],
      "metadata": {
        "id": "-NZm9KXpHg1a"
      },
      "execution_count": null,
      "outputs": []
    },
    {
      "cell_type": "markdown",
      "source": [
        "# **Tensor Shapes**"
      ],
      "metadata": {
        "id": "wfvKCbiNJlGz"
      }
    },
    {
      "cell_type": "code",
      "source": [
        "x = torch.tensor([[1,2,3],[6,5,9]])"
      ],
      "metadata": {
        "id": "yNJX-jg_JpNa"
      },
      "execution_count": 28,
      "outputs": []
    },
    {
      "cell_type": "code",
      "source": [
        "x"
      ],
      "metadata": {
        "colab": {
          "base_uri": "https://localhost:8080/"
        },
        "id": "IaiUblPJJzUT",
        "outputId": "d6bbce4a-4b96-48a9-f4ba-553f58ad6a6a"
      },
      "execution_count": 29,
      "outputs": [
        {
          "output_type": "execute_result",
          "data": {
            "text/plain": [
              "tensor([[1, 2, 3],\n",
              "        [6, 5, 9]])"
            ]
          },
          "metadata": {},
          "execution_count": 29
        }
      ]
    },
    {
      "cell_type": "code",
      "source": [
        "x.shape"
      ],
      "metadata": {
        "colab": {
          "base_uri": "https://localhost:8080/"
        },
        "id": "-r14oeO3J038",
        "outputId": "1a7fb7e3-94d6-4516-b92d-533ff7062f37"
      },
      "execution_count": 31,
      "outputs": [
        {
          "output_type": "execute_result",
          "data": {
            "text/plain": [
              "torch.Size([2, 3])"
            ]
          },
          "metadata": {},
          "execution_count": 31
        }
      ]
    },
    {
      "cell_type": "code",
      "source": [
        "torch.empty_like(x)\n",
        "# What the code does:\n",
        "\n",
        "# It takes the existing tensor x as input.\n",
        "# It creates a new tensor with the same shape (dimensions), data type, and device as x.\n",
        "# Important: The values inside the new tensor are not initialized; they will contain whatever data happens to be in the memory location allocated to the tensor."
      ],
      "metadata": {
        "colab": {
          "base_uri": "https://localhost:8080/"
        },
        "id": "PDtQQLf8J3q7",
        "outputId": "3df09f6a-ce2b-4f1b-ff7b-432dd3fdf84f"
      },
      "execution_count": 32,
      "outputs": [
        {
          "output_type": "execute_result",
          "data": {
            "text/plain": [
              "tensor([[138134218271216, 138138008443824, 138138141834224],\n",
              "        [138138141833392, 138138141827440, 138138141872176]])"
            ]
          },
          "metadata": {},
          "execution_count": 32
        }
      ]
    },
    {
      "cell_type": "code",
      "source": [
        "torch.zeros_like(x)"
      ],
      "metadata": {
        "colab": {
          "base_uri": "https://localhost:8080/"
        },
        "id": "RqcmoUS9KQYj",
        "outputId": "3aab03ba-6158-4140-f59e-c0d45f320426"
      },
      "execution_count": 33,
      "outputs": [
        {
          "output_type": "execute_result",
          "data": {
            "text/plain": [
              "tensor([[0, 0, 0],\n",
              "        [0, 0, 0]])"
            ]
          },
          "metadata": {},
          "execution_count": 33
        }
      ]
    },
    {
      "cell_type": "code",
      "source": [
        "torch.ones_like(x)"
      ],
      "metadata": {
        "colab": {
          "base_uri": "https://localhost:8080/"
        },
        "id": "HQ9CjM2oKXVT",
        "outputId": "b4200375-803d-4ec1-d372-e63074119dca"
      },
      "execution_count": 34,
      "outputs": [
        {
          "output_type": "execute_result",
          "data": {
            "text/plain": [
              "tensor([[1, 1, 1],\n",
              "        [1, 1, 1]])"
            ]
          },
          "metadata": {},
          "execution_count": 34
        }
      ]
    },
    {
      "cell_type": "code",
      "source": [
        "# Intentional error\n",
        "torch.rand_like(x)"
      ],
      "metadata": {
        "colab": {
          "base_uri": "https://localhost:8080/",
          "height": 141
        },
        "collapsed": true,
        "id": "R5fCGVukKhfM",
        "outputId": "e617b712-b798-44fb-b493-e2b43bf3b4cd"
      },
      "execution_count": 35,
      "outputs": [
        {
          "output_type": "error",
          "ename": "RuntimeError",
          "evalue": "\"check_uniform_bounds\" not implemented for 'Long'",
          "traceback": [
            "\u001b[0;31m---------------------------------------------------------------------------\u001b[0m",
            "\u001b[0;31mRuntimeError\u001b[0m                              Traceback (most recent call last)",
            "\u001b[0;32m<ipython-input-35-8a266f1565c3>\u001b[0m in \u001b[0;36m<cell line: 1>\u001b[0;34m()\u001b[0m\n\u001b[0;32m----> 1\u001b[0;31m \u001b[0mtorch\u001b[0m\u001b[0;34m.\u001b[0m\u001b[0mrand_like\u001b[0m\u001b[0;34m(\u001b[0m\u001b[0mx\u001b[0m\u001b[0;34m)\u001b[0m\u001b[0;34m\u001b[0m\u001b[0;34m\u001b[0m\u001b[0m\n\u001b[0m",
            "\u001b[0;31mRuntimeError\u001b[0m: \"check_uniform_bounds\" not implemented for 'Long'"
          ]
        }
      ]
    },
    {
      "cell_type": "markdown",
      "source": [
        "# **Tensor Data Types**"
      ],
      "metadata": {
        "id": "n4tupKrfK4rz"
      }
    },
    {
      "cell_type": "code",
      "source": [
        "# find data types"
      ],
      "metadata": {
        "id": "SRcNOmoLKlKk"
      },
      "execution_count": null,
      "outputs": []
    },
    {
      "cell_type": "code",
      "source": [
        "# assign data type"
      ],
      "metadata": {
        "id": "eoFmOfg3LCOz"
      },
      "execution_count": null,
      "outputs": []
    }
  ]
}