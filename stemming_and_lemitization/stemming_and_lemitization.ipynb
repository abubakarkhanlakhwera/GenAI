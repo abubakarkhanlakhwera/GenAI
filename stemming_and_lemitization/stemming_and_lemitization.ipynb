{
  "nbformat": 4,
  "nbformat_minor": 0,
  "metadata": {
    "colab": {
      "provenance": [],
      "authorship_tag": "ABX9TyNtS3QoxtXgIJNPV9mVSjYZ",
      "include_colab_link": true
    },
    "kernelspec": {
      "name": "python3",
      "display_name": "Python 3"
    },
    "language_info": {
      "name": "python"
    }
  },
  "cells": [
    {
      "cell_type": "markdown",
      "metadata": {
        "id": "view-in-github",
        "colab_type": "text"
      },
      "source": [
        "<a href=\"https://colab.research.google.com/github/abubakarkhanlakhwera/GenAI/blob/main/stemming_and_lemitization/stemming_and_lemitization.ipynb\" target=\"_parent\"><img src=\"https://colab.research.google.com/assets/colab-badge.svg\" alt=\"Open In Colab\"/></a>"
      ]
    },
    {
      "cell_type": "markdown",
      "source": [
        "# **Stemming**"
      ],
      "metadata": {
        "id": "Ajwk93FqX32F"
      }
    },
    {
      "cell_type": "code",
      "source": [
        "import nltk\n",
        "nltk.download('punkt_tab')\n",
        "\n",
        "from nltk.stem import PorterStemmer\n",
        "from nltk.tokenize import word_tokenize\n",
        "import time\n"
      ],
      "metadata": {
        "colab": {
          "base_uri": "https://localhost:8080/"
        },
        "id": "wn61U47iWMmr",
        "outputId": "81d35560-64dd-4e7c-a85a-431b2865eaa8"
      },
      "execution_count": 1,
      "outputs": [
        {
          "output_type": "stream",
          "name": "stderr",
          "text": [
            "[nltk_data] Downloading package punkt_tab to /root/nltk_data...\n",
            "[nltk_data]   Package punkt_tab is already up-to-date!\n"
          ]
        }
      ]
    },
    {
      "cell_type": "code",
      "source": [
        "porter_stem = PorterStemmer()"
      ],
      "metadata": {
        "id": "BymmWZWUWMgr"
      },
      "execution_count": 2,
      "outputs": []
    },
    {
      "cell_type": "code",
      "source": [
        "text = 'The team has successfully completed the project ahead of schedule, demonstrating exceptional collaboration and dedication. This achievement reflects the commitment to excellence and the high standards upheld throughout the process.'"
      ],
      "metadata": {
        "id": "T5SK9QyJWMd0"
      },
      "execution_count": 3,
      "outputs": []
    },
    {
      "source": [
        "tokens = word_tokenize(text)"
      ],
      "cell_type": "code",
      "metadata": {
        "id": "pKdjmE01WEoq"
      },
      "execution_count": 4,
      "outputs": []
    },
    {
      "cell_type": "code",
      "source": [
        "stemmed_words = [porter_stem.stem(word) for word in tokens]"
      ],
      "metadata": {
        "id": "IvQ1turxV2Xi"
      },
      "execution_count": 5,
      "outputs": []
    },
    {
      "cell_type": "code",
      "source": [
        "stemmed_text = ' '.join(stemmed_words)"
      ],
      "metadata": {
        "id": "1st3muPBWYv1"
      },
      "execution_count": 6,
      "outputs": []
    },
    {
      "cell_type": "code",
      "source": [
        "stemmed_text"
      ],
      "metadata": {
        "colab": {
          "base_uri": "https://localhost:8080/",
          "height": 35
        },
        "id": "T-zGGN01XHUx",
        "outputId": "8b8cee58-99f6-44d1-cec5-dcb0132a8e5e"
      },
      "execution_count": 7,
      "outputs": [
        {
          "output_type": "execute_result",
          "data": {
            "text/plain": [
              "'the team ha success complet the project ahead of schedul , demonstr except collabor and dedic . thi achiev reflect the commit to excel and the high standard upheld throughout the process .'"
            ],
            "application/vnd.google.colaboratory.intrinsic+json": {
              "type": "string"
            }
          },
          "metadata": {},
          "execution_count": 7
        }
      ]
    },
    {
      "cell_type": "markdown",
      "source": [
        "# **Lemitization**"
      ],
      "metadata": {
        "id": "t5BtRcl6X9YD"
      }
    },
    {
      "cell_type": "code",
      "source": [
        "nltk.download('wordnet')\n",
        "nltk.download('averaged_perceptron_tagger')\n",
        "nltk.download('averaged_perceptron_tagger_eng')"
      ],
      "metadata": {
        "colab": {
          "base_uri": "https://localhost:8080/"
        },
        "id": "fRSR5Q2Jab5G",
        "outputId": "adc6ff7a-2de6-4702-dab4-fbc7deeb31d0"
      },
      "execution_count": 15,
      "outputs": [
        {
          "output_type": "stream",
          "name": "stderr",
          "text": [
            "[nltk_data] Downloading package wordnet to /root/nltk_data...\n",
            "[nltk_data]   Package wordnet is already up-to-date!\n",
            "[nltk_data] Downloading package averaged_perceptron_tagger to\n",
            "[nltk_data]     /root/nltk_data...\n",
            "[nltk_data]   Package averaged_perceptron_tagger is already up-to-\n",
            "[nltk_data]       date!\n",
            "[nltk_data] Downloading package averaged_perceptron_tagger_eng to\n",
            "[nltk_data]     /root/nltk_data...\n",
            "[nltk_data]   Unzipping taggers/averaged_perceptron_tagger_eng.zip.\n"
          ]
        },
        {
          "output_type": "execute_result",
          "data": {
            "text/plain": [
              "True"
            ]
          },
          "metadata": {},
          "execution_count": 15
        }
      ]
    },
    {
      "cell_type": "code",
      "source": [
        "import nltk\n",
        "from nltk.stem import WordNetLemmatizer\n",
        "from nltk.tokenize import word_tokenize\n",
        "from nltk.corpus import wordnet"
      ],
      "metadata": {
        "id": "dp1QQVVbXM0h"
      },
      "execution_count": 9,
      "outputs": []
    },
    {
      "cell_type": "code",
      "source": [
        "lem = WordNetLemmatizer()"
      ],
      "metadata": {
        "id": "Qg0MZhBIaZte"
      },
      "execution_count": 10,
      "outputs": []
    },
    {
      "cell_type": "code",
      "source": [
        "text = 'The team has successfully completed the project ahead of schedule, demonstrating exceptional collaboration and dedication. This achievement reflects the commitment to excellence and the high standards upheld throughout the process.'"
      ],
      "metadata": {
        "id": "VfXlWOJQalkO"
      },
      "execution_count": 11,
      "outputs": []
    },
    {
      "cell_type": "code",
      "source": [
        "token = word_tokenize(text)"
      ],
      "metadata": {
        "id": "e4K3Gan0at4-"
      },
      "execution_count": 12,
      "outputs": []
    },
    {
      "cell_type": "code",
      "source": [
        "def nltk_tag_to_wordnet_tag(nltk_tag):\n",
        "    if nltk_tag.startswith('J'):\n",
        "        return wordnet.ADJ\n",
        "    elif nltk_tag.startswith('V'):\n",
        "        return wordnet.VERB\n",
        "    elif nltk_tag.startswith('N'):\n",
        "        return wordnet.NOUN\n",
        "    elif nltk_tag.startswith('R'):\n",
        "        return wordnet.ADV\n",
        "    else:\n",
        "        return None"
      ],
      "metadata": {
        "id": "V9afd69raxr-"
      },
      "execution_count": 13,
      "outputs": []
    },
    {
      "cell_type": "code",
      "source": [
        "pos_tagged = nltk.pos_tag(token)"
      ],
      "metadata": {
        "id": "LpwODheVbMW2"
      },
      "execution_count": 16,
      "outputs": []
    },
    {
      "cell_type": "code",
      "source": [
        "lemmatized_words = []"
      ],
      "metadata": {
        "id": "zjTc1dMIbynt"
      },
      "execution_count": 17,
      "outputs": []
    },
    {
      "cell_type": "code",
      "source": [
        "for word, tag in pos_tagged:\n",
        "    wordnet_tag = nltk_tag_to_wordnet_tag(tag)\n",
        "    if wordnet_tag is None:\n",
        "        lemma = lem.lemmatize(word)\n",
        "    else:\n",
        "        lemma = lem.lemmatize(word, pos=wordnet_tag)\n",
        "    lemmatized_words.append(lemma)\n",
        ""
      ],
      "metadata": {
        "id": "Rvb2lRQOc1hd"
      },
      "execution_count": 18,
      "outputs": []
    },
    {
      "cell_type": "code",
      "source": [
        "lemmatized_text = ' '.join(lemmatized_words)\n",
        "lemmatized_text"
      ],
      "metadata": {
        "colab": {
          "base_uri": "https://localhost:8080/",
          "height": 53
        },
        "id": "KOsD6I1ZdXeN",
        "outputId": "172cd2b3-4ece-4058-b5e8-14b883efb039"
      },
      "execution_count": 19,
      "outputs": [
        {
          "output_type": "execute_result",
          "data": {
            "text/plain": [
              "'The team have successfully complete the project ahead of schedule , demonstrate exceptional collaboration and dedication . This achievement reflect the commitment to excellence and the high standard uphold throughout the process .'"
            ],
            "application/vnd.google.colaboratory.intrinsic+json": {
              "type": "string"
            }
          },
          "metadata": {},
          "execution_count": 19
        }
      ]
    }
  ]
}