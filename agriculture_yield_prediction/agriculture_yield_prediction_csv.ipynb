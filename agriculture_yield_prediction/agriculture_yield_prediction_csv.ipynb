{
  "nbformat": 4,
  "nbformat_minor": 0,
  "metadata": {
    "colab": {
      "provenance": [],
      "authorship_tag": "ABX9TyNtCG8PYMXGOBzehm2EOhtZ",
      "include_colab_link": true
    },
    "kernelspec": {
      "name": "python3",
      "display_name": "Python 3"
    },
    "language_info": {
      "name": "python"
    }
  },
  "cells": [
    {
      "cell_type": "markdown",
      "metadata": {
        "id": "view-in-github",
        "colab_type": "text"
      },
      "source": [
        "<a href=\"https://colab.research.google.com/github/abubakarkhanlakhwera/GenAI/blob/main/agriculture_yield_prediction/agriculture_yield_prediction_csv.ipynb\" target=\"_parent\"><img src=\"https://colab.research.google.com/assets/colab-badge.svg\" alt=\"Open In Colab\"/></a>"
      ]
    },
    {
      "cell_type": "code",
      "execution_count": 1,
      "metadata": {
        "colab": {
          "base_uri": "https://localhost:8080/"
        },
        "id": "qYX7vWaDyS6H",
        "outputId": "ef54a6ff-acb9-4bd2-f411-991aceb6636e"
      },
      "outputs": [
        {
          "output_type": "stream",
          "name": "stdout",
          "text": [
            "Collecting streamlit\n",
            "  Downloading streamlit-1.42.0-py2.py3-none-any.whl.metadata (8.9 kB)\n",
            "Collecting groq\n",
            "  Downloading groq-0.18.0-py3-none-any.whl.metadata (14 kB)\n",
            "Requirement already satisfied: pandas in /usr/local/lib/python3.11/dist-packages (2.2.2)\n",
            "Requirement already satisfied: matplotlib in /usr/local/lib/python3.11/dist-packages (3.10.0)\n",
            "Requirement already satisfied: requests in /usr/local/lib/python3.11/dist-packages (2.32.3)\n",
            "Requirement already satisfied: altair<6,>=4.0 in /usr/local/lib/python3.11/dist-packages (from streamlit) (5.5.0)\n",
            "Requirement already satisfied: blinker<2,>=1.0.0 in /usr/local/lib/python3.11/dist-packages (from streamlit) (1.9.0)\n",
            "Requirement already satisfied: cachetools<6,>=4.0 in /usr/local/lib/python3.11/dist-packages (from streamlit) (5.5.1)\n",
            "Requirement already satisfied: click<9,>=7.0 in /usr/local/lib/python3.11/dist-packages (from streamlit) (8.1.8)\n",
            "Requirement already satisfied: numpy<3,>=1.23 in /usr/local/lib/python3.11/dist-packages (from streamlit) (1.26.4)\n",
            "Requirement already satisfied: packaging<25,>=20 in /usr/local/lib/python3.11/dist-packages (from streamlit) (24.2)\n",
            "Requirement already satisfied: pillow<12,>=7.1.0 in /usr/local/lib/python3.11/dist-packages (from streamlit) (11.1.0)\n",
            "Requirement already satisfied: protobuf<6,>=3.20 in /usr/local/lib/python3.11/dist-packages (from streamlit) (4.25.6)\n",
            "Requirement already satisfied: pyarrow>=7.0 in /usr/local/lib/python3.11/dist-packages (from streamlit) (17.0.0)\n",
            "Requirement already satisfied: rich<14,>=10.14.0 in /usr/local/lib/python3.11/dist-packages (from streamlit) (13.9.4)\n",
            "Requirement already satisfied: tenacity<10,>=8.1.0 in /usr/local/lib/python3.11/dist-packages (from streamlit) (9.0.0)\n",
            "Requirement already satisfied: toml<2,>=0.10.1 in /usr/local/lib/python3.11/dist-packages (from streamlit) (0.10.2)\n",
            "Requirement already satisfied: typing-extensions<5,>=4.4.0 in /usr/local/lib/python3.11/dist-packages (from streamlit) (4.12.2)\n",
            "Collecting watchdog<7,>=2.1.5 (from streamlit)\n",
            "  Downloading watchdog-6.0.0-py3-none-manylinux2014_x86_64.whl.metadata (44 kB)\n",
            "\u001b[2K     \u001b[90m━━━━━━━━━━━━━━━━━━━━━━━━━━━━━━━━━━━━━━━━\u001b[0m \u001b[32m44.3/44.3 kB\u001b[0m \u001b[31m1.3 MB/s\u001b[0m eta \u001b[36m0:00:00\u001b[0m\n",
            "\u001b[?25hRequirement already satisfied: gitpython!=3.1.19,<4,>=3.0.7 in /usr/local/lib/python3.11/dist-packages (from streamlit) (3.1.44)\n",
            "Collecting pydeck<1,>=0.8.0b4 (from streamlit)\n",
            "  Downloading pydeck-0.9.1-py2.py3-none-any.whl.metadata (4.1 kB)\n",
            "Requirement already satisfied: tornado<7,>=6.0.3 in /usr/local/lib/python3.11/dist-packages (from streamlit) (6.4.2)\n",
            "Requirement already satisfied: anyio<5,>=3.5.0 in /usr/local/lib/python3.11/dist-packages (from groq) (3.7.1)\n",
            "Requirement already satisfied: distro<2,>=1.7.0 in /usr/local/lib/python3.11/dist-packages (from groq) (1.9.0)\n",
            "Requirement already satisfied: httpx<1,>=0.23.0 in /usr/local/lib/python3.11/dist-packages (from groq) (0.28.1)\n",
            "Requirement already satisfied: pydantic<3,>=1.9.0 in /usr/local/lib/python3.11/dist-packages (from groq) (2.10.6)\n",
            "Requirement already satisfied: sniffio in /usr/local/lib/python3.11/dist-packages (from groq) (1.3.1)\n",
            "Requirement already satisfied: python-dateutil>=2.8.2 in /usr/local/lib/python3.11/dist-packages (from pandas) (2.8.2)\n",
            "Requirement already satisfied: pytz>=2020.1 in /usr/local/lib/python3.11/dist-packages (from pandas) (2025.1)\n",
            "Requirement already satisfied: tzdata>=2022.7 in /usr/local/lib/python3.11/dist-packages (from pandas) (2025.1)\n",
            "Requirement already satisfied: contourpy>=1.0.1 in /usr/local/lib/python3.11/dist-packages (from matplotlib) (1.3.1)\n",
            "Requirement already satisfied: cycler>=0.10 in /usr/local/lib/python3.11/dist-packages (from matplotlib) (0.12.1)\n",
            "Requirement already satisfied: fonttools>=4.22.0 in /usr/local/lib/python3.11/dist-packages (from matplotlib) (4.56.0)\n",
            "Requirement already satisfied: kiwisolver>=1.3.1 in /usr/local/lib/python3.11/dist-packages (from matplotlib) (1.4.8)\n",
            "Requirement already satisfied: pyparsing>=2.3.1 in /usr/local/lib/python3.11/dist-packages (from matplotlib) (3.2.1)\n",
            "Requirement already satisfied: charset-normalizer<4,>=2 in /usr/local/lib/python3.11/dist-packages (from requests) (3.4.1)\n",
            "Requirement already satisfied: idna<4,>=2.5 in /usr/local/lib/python3.11/dist-packages (from requests) (3.10)\n",
            "Requirement already satisfied: urllib3<3,>=1.21.1 in /usr/local/lib/python3.11/dist-packages (from requests) (2.3.0)\n",
            "Requirement already satisfied: certifi>=2017.4.17 in /usr/local/lib/python3.11/dist-packages (from requests) (2025.1.31)\n",
            "Requirement already satisfied: jinja2 in /usr/local/lib/python3.11/dist-packages (from altair<6,>=4.0->streamlit) (3.1.5)\n",
            "Requirement already satisfied: jsonschema>=3.0 in /usr/local/lib/python3.11/dist-packages (from altair<6,>=4.0->streamlit) (4.23.0)\n",
            "Requirement already satisfied: narwhals>=1.14.2 in /usr/local/lib/python3.11/dist-packages (from altair<6,>=4.0->streamlit) (1.26.0)\n",
            "Requirement already satisfied: gitdb<5,>=4.0.1 in /usr/local/lib/python3.11/dist-packages (from gitpython!=3.1.19,<4,>=3.0.7->streamlit) (4.0.12)\n",
            "Requirement already satisfied: httpcore==1.* in /usr/local/lib/python3.11/dist-packages (from httpx<1,>=0.23.0->groq) (1.0.7)\n",
            "Requirement already satisfied: h11<0.15,>=0.13 in /usr/local/lib/python3.11/dist-packages (from httpcore==1.*->httpx<1,>=0.23.0->groq) (0.14.0)\n",
            "Requirement already satisfied: annotated-types>=0.6.0 in /usr/local/lib/python3.11/dist-packages (from pydantic<3,>=1.9.0->groq) (0.7.0)\n",
            "Requirement already satisfied: pydantic-core==2.27.2 in /usr/local/lib/python3.11/dist-packages (from pydantic<3,>=1.9.0->groq) (2.27.2)\n",
            "Requirement already satisfied: six>=1.5 in /usr/local/lib/python3.11/dist-packages (from python-dateutil>=2.8.2->pandas) (1.17.0)\n",
            "Requirement already satisfied: markdown-it-py>=2.2.0 in /usr/local/lib/python3.11/dist-packages (from rich<14,>=10.14.0->streamlit) (3.0.0)\n",
            "Requirement already satisfied: pygments<3.0.0,>=2.13.0 in /usr/local/lib/python3.11/dist-packages (from rich<14,>=10.14.0->streamlit) (2.18.0)\n",
            "Requirement already satisfied: smmap<6,>=3.0.1 in /usr/local/lib/python3.11/dist-packages (from gitdb<5,>=4.0.1->gitpython!=3.1.19,<4,>=3.0.7->streamlit) (5.0.2)\n",
            "Requirement already satisfied: MarkupSafe>=2.0 in /usr/local/lib/python3.11/dist-packages (from jinja2->altair<6,>=4.0->streamlit) (3.0.2)\n",
            "Requirement already satisfied: attrs>=22.2.0 in /usr/local/lib/python3.11/dist-packages (from jsonschema>=3.0->altair<6,>=4.0->streamlit) (25.1.0)\n",
            "Requirement already satisfied: jsonschema-specifications>=2023.03.6 in /usr/local/lib/python3.11/dist-packages (from jsonschema>=3.0->altair<6,>=4.0->streamlit) (2024.10.1)\n",
            "Requirement already satisfied: referencing>=0.28.4 in /usr/local/lib/python3.11/dist-packages (from jsonschema>=3.0->altair<6,>=4.0->streamlit) (0.36.2)\n",
            "Requirement already satisfied: rpds-py>=0.7.1 in /usr/local/lib/python3.11/dist-packages (from jsonschema>=3.0->altair<6,>=4.0->streamlit) (0.22.3)\n",
            "Requirement already satisfied: mdurl~=0.1 in /usr/local/lib/python3.11/dist-packages (from markdown-it-py>=2.2.0->rich<14,>=10.14.0->streamlit) (0.1.2)\n",
            "Downloading streamlit-1.42.0-py2.py3-none-any.whl (9.6 MB)\n",
            "\u001b[2K   \u001b[90m━━━━━━━━━━━━━━━━━━━━━━━━━━━━━━━━━━━━━━━━\u001b[0m \u001b[32m9.6/9.6 MB\u001b[0m \u001b[31m43.0 MB/s\u001b[0m eta \u001b[36m0:00:00\u001b[0m\n",
            "\u001b[?25hDownloading groq-0.18.0-py3-none-any.whl (121 kB)\n",
            "\u001b[2K   \u001b[90m━━━━━━━━━━━━━━━━━━━━━━━━━━━━━━━━━━━━━━━━\u001b[0m \u001b[32m121.9/121.9 kB\u001b[0m \u001b[31m7.5 MB/s\u001b[0m eta \u001b[36m0:00:00\u001b[0m\n",
            "\u001b[?25hDownloading pydeck-0.9.1-py2.py3-none-any.whl (6.9 MB)\n",
            "\u001b[2K   \u001b[90m━━━━━━━━━━━━━━━━━━━━━━━━━━━━━━━━━━━━━━━━\u001b[0m \u001b[32m6.9/6.9 MB\u001b[0m \u001b[31m58.3 MB/s\u001b[0m eta \u001b[36m0:00:00\u001b[0m\n",
            "\u001b[?25hDownloading watchdog-6.0.0-py3-none-manylinux2014_x86_64.whl (79 kB)\n",
            "\u001b[2K   \u001b[90m━━━━━━━━━━━━━━━━━━━━━━━━━━━━━━━━━━━━━━━━\u001b[0m \u001b[32m79.1/79.1 kB\u001b[0m \u001b[31m4.9 MB/s\u001b[0m eta \u001b[36m0:00:00\u001b[0m\n",
            "\u001b[?25hInstalling collected packages: watchdog, pydeck, groq, streamlit\n",
            "Successfully installed groq-0.18.0 pydeck-0.9.1 streamlit-1.42.0 watchdog-6.0.0\n"
          ]
        }
      ],
      "source": [
        "!pip install streamlit groq pandas matplotlib requests\n"
      ]
    },
    {
      "cell_type": "code",
      "source": [
        "#app.py\n",
        "import os\n",
        "import requests\n",
        "import streamlit as st\n",
        "import pandas as pd\n",
        "import numpy as np\n",
        "import matplotlib.pyplot as plt\n",
        "from groq import Groq\n",
        "\n",
        "# --- Download Sticker Automatically ---\n",
        "sticker_path = \"sticker.png\"\n",
        "if not os.path.exists(sticker_path):\n",
        "    # Sample sticker image URL. Replace it if desired.\n",
        "    sticker_url = \"https://cdn-icons-png.flaticon.com/512/5948/5948236.png\"\n",
        "    try:\n",
        "        response = requests.get(sticker_url)\n",
        "        response.raise_for_status()\n",
        "        with open(sticker_path, \"wb\") as f:\n",
        "            f.write(response.content)\n",
        "    except Exception as e:\n",
        "        st.error(f\"Failed to download sticker image: {e}\")\n",
        "\n",
        "# --- Set Up Groq API Key ---\n",
        "os.environ['GROQ_API_KEY'] = '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'\n",
        "api_key = os.environ.get(\"GROQ_API_KEY\")\n",
        "if not api_key:\n",
        "    st.error(\"GROQ_API_KEY environment variable is not set!\")\n",
        "    st.stop()\n",
        "\n",
        "# Initialize the Groq client.\n",
        "client = Groq(api_key=api_key)\n",
        "\n",
        "# --- Prediction Function ---\n",
        "def predict_with_serial(serial_number):\n",
        "    \"\"\"\n",
        "    Build a prompt using the given serial number and use the Groq generative model\n",
        "    to generate a discussion and prediction.\n",
        "    \"\"\"\n",
        "    prompt = (\n",
        "        f\"Discuss the following serial number: {serial_number}. \"\n",
        "        \"Predict its future performance and reliability trends over time, \"\n",
        "        \"and suggest improvements.\"\n",
        "    )\n",
        "    chat_completion = client.chat.completions.create(\n",
        "        messages=[{\"role\": \"user\", \"content\": prompt}],\n",
        "        model=\"llama-3.3-70b-versatile\"\n",
        "    )\n",
        "    response_text = chat_completion.choices[0].message.content\n",
        "    return response_text\n",
        "\n",
        "# --- App UI ---\n",
        "# Display the sticker image at the top.\n",
        "st.image(sticker_path, width=200)\n",
        "\n",
        "st.title(\"Serial Number Analysis & Prediction\")\n",
        "st.write(\n",
        "    \"Upload a file containing a serial number or enter one manually below. \"\n",
        "    \"The bot will discuss the serial number, generate predictions, and show graphical visualizations.\"\n",
        ")\n",
        "\n",
        "# --- File Uploader & Preview ---\n",
        "uploaded_file = st.file_uploader(\"Upload file (CSV or TXT) with serial number\", type=[\"csv\", \"txt\"])\n",
        "serial_number = None\n",
        "\n",
        "if uploaded_file is not None:\n",
        "    try:\n",
        "        if uploaded_file.name.endswith('.csv'):\n",
        "            df = pd.read_csv(uploaded_file)\n",
        "            st.subheader(\"File Preview\")\n",
        "            st.dataframe(df.head())  # show preview (first few rows)\n",
        "            # Expecting a column named 'ID'\n",
        "            if 'ID' in df.columns:\n",
        "                serial_number = str(df['ID'].iloc[0])\n",
        "            else:\n",
        "                st.error(\"CSV file does not contain an 'ID' column.\")\n",
        "        elif uploaded_file.name.endswith('.txt'):\n",
        "            file_text = uploaded_file.getvalue().decode(\"utf-8\").strip()\n",
        "            st.subheader(\"File Preview\")\n",
        "            st.text(file_text)\n",
        "            serial_number = file_text\n",
        "    except Exception as e:\n",
        "        st.error(f\"Error processing file: {e}\")\n",
        "\n",
        "# --- Manual Input ---\n",
        "serial_number_input = st.text_input(\"Enter Serial Number\", value=serial_number if serial_number else \"\")\n",
        "\n",
        "# --- Trigger Analysis ---\n",
        "if st.button(\"Analyze Serial Number\"):\n",
        "    if not serial_number_input:\n",
        "        st.error(\"Please provide a serial number either by uploading a file or entering one manually.\")\n",
        "    else:\n",
        "        with st.spinner(\"Analyzing...\"):\n",
        "            prediction = predict_with_serial(serial_number_input)\n",
        "        st.success(\"Analysis Complete!\")\n",
        "        st.write(\"### Bot Response:\")\n",
        "        st.write(prediction)\n",
        "\n",
        "        # --- Graphical Visualization ---\n",
        "        st.write(\"### Graphical Visualizations\")\n",
        "        # Generate dummy data for demonstration purposes:\n",
        "        np.random.seed(42)\n",
        "        time_points = np.arange(1, 13)  # Representing 12 months\n",
        "\n",
        "        # Dummy aspects: performance, reliability, and efficiency\n",
        "        performance = np.random.rand(12) * 100\n",
        "        reliability = np.random.rand(12) * 100\n",
        "        efficiency  = np.random.rand(12) * 100\n",
        "\n",
        "        # Create a figure with 3 subplots for different aspects.\n",
        "        fig, axs = plt.subplots(1, 3, figsize=(18, 4))\n",
        "\n",
        "        # Performance Trend: Line Chart\n",
        "        axs[0].plot(time_points, performance, marker='o', linestyle='-', color='blue')\n",
        "        axs[0].set_title(\"Performance Trend\")\n",
        "        axs[0].set_xlabel(\"Month\")\n",
        "        axs[0].set_ylabel(\"Performance Metric\")\n",
        "        axs[0].grid(True)\n",
        "\n",
        "        # Reliability Trend: Bar Chart\n",
        "        axs[1].bar(time_points, reliability, color='green')\n",
        "        axs[1].set_title(\"Reliability Trend\")\n",
        "        axs[1].set_xlabel(\"Month\")\n",
        "        axs[1].set_ylabel(\"Reliability Metric\")\n",
        "        axs[1].grid(True)\n",
        "\n",
        "        # Efficiency Trend: Scatter Plot\n",
        "        axs[2].scatter(time_points, efficiency, color='red')\n",
        "        axs[2].set_title(\"Efficiency Trend\")\n",
        "        axs[2].set_xlabel(\"Month\")\n",
        "        axs[2].set_ylabel(\"Efficiency Metric\")\n",
        "        axs[2].grid(True)\n",
        "\n",
        "        st.pyplot(fig)\n"
      ],
      "metadata": {
        "id": "jlBxOhd5yZjO"
      },
      "execution_count": null,
      "outputs": []
    },
    {
      "cell_type": "code",
      "source": [
        "!wget -qO- ipv4.icanhazip.com"
      ],
      "metadata": {
        "colab": {
          "base_uri": "https://localhost:8080/"
        },
        "id": "PT_mEABDyozs",
        "outputId": "a0a712e3-c815-4ef9-c652-e029b80c57bb"
      },
      "execution_count": 3,
      "outputs": [
        {
          "output_type": "stream",
          "name": "stdout",
          "text": [
            "35.232.48.249\n"
          ]
        }
      ]
    },
    {
      "cell_type": "code",
      "source": [
        "!streamlit run app.py & npx  localtunnel --port 8501\n"
      ],
      "metadata": {
        "colab": {
          "base_uri": "https://localhost:8080/"
        },
        "id": "DEjTrKvfy2Ye",
        "outputId": "edb346b1-5802-4669-a809-9e02554e1a6f"
      },
      "execution_count": null,
      "outputs": [
        {
          "output_type": "stream",
          "name": "stdout",
          "text": [
            "\n",
            "Collecting usage statistics. To deactivate, set browser.gatherUsageStats to false.\n",
            "\u001b[0m\n",
            "\u001b[1G\u001b[0K⠙\u001b[1G\u001b[0K⠹\u001b[1G\u001b[0K⠸\u001b[1G\u001b[0K⠼\u001b[0m\n",
            "\u001b[34m\u001b[1m  You can now view your Streamlit app in your browser.\u001b[0m\n",
            "\u001b[0m\n",
            "\u001b[34m  Local URL: \u001b[0m\u001b[1mhttp://localhost:8501\u001b[0m\n",
            "\u001b[34m  Network URL: \u001b[0m\u001b[1mhttp://172.28.0.12:8501\u001b[0m\n",
            "\u001b[34m  External URL: \u001b[0m\u001b[1mhttp://35.232.48.249:8501\u001b[0m\n",
            "\u001b[0m\n",
            "\u001b[1G\u001b[0K⠴\u001b[1G\u001b[0K⠦\u001b[1G\u001b[0Kyour url is: https://dirty-jobs-send.loca.lt\n"
          ]
        }
      ]
    },
    {
      "cell_type": "code",
      "source": [],
      "metadata": {
        "id": "PH8WP0QKy4Nd"
      },
      "execution_count": null,
      "outputs": []
    }
  ]
}